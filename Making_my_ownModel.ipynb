{
 "cells": [
  {
   "cell_type": "code",
   "execution_count": 2,
   "metadata": {
    "collapsed": true
   },
   "outputs": [],
   "source": [
    "import numpy as np\n",
    "import pickle\n",
    "import tensorflow as tf\n",
    "tf.reset_default_graph()"
   ]
  },
  {
   "cell_type": "code",
   "execution_count": 3,
   "metadata": {
    "collapsed": true
   },
   "outputs": [],
   "source": [
    "with open('Training_feature.pickle','rb') as f:\n",
    "    training_feature=pickle.load(f,encoding='latin1')\n",
    "input_images=training_feature[0]\n",
    "class_labels=training_feature[1]    \n",
    "\n",
    "training_percentage=80\n",
    "\n",
    "X_train=input_images[:int((len(input_images)/100)*training_percentage)].astype(float)\n",
    "Y_train=class_labels[:int((len(input_images)/100)*training_percentage)].astype(float)\n",
    "X_test=input_images[int((len(input_images)/100)*training_percentage):].astype(float)\n",
    "Y_test=class_labels[int((len(input_images)/100)*training_percentage):].astype(float)"
   ]
  },
  {
   "cell_type": "markdown",
   "metadata": {},
   "source": [
    "## Define placeholder and variables"
   ]
  },
  {
   "cell_type": "code",
   "execution_count": 4,
   "metadata": {},
   "outputs": [],
   "source": [
    "no_hidden_layer1=1000\n",
    "no_of_class=3\n",
    "h_epochs=100\n",
    "X=tf.placeholder(tf.float32,[None,2500])\n",
    "Y=tf.placeholder(tf.float32)\n",
    "\n",
    "sess=tf.InteractiveSession()\n",
    "with tf.name_scope('hidden1'):\n",
    "    W=tf.Variable(tf.truncated_normal([2500,no_hidden_layer1],stddev=0.1),name='weights')\n",
    "    bias=tf.Variable(tf.zeros([no_hidden_layer1]),dtype=tf.float32,name='bias')\n",
    "    hidden_layer1_output=tf.add(tf.matmul(X,W),bias)\n",
    "    hidden_layer1_output=tf.nn.relu(hidden_layer1_output)\n",
    "    \n",
    "\n",
    "with tf.name_scope('out_put'):\n",
    "    W=tf.Variable(tf.truncated_normal([no_hidden_layer1,no_of_class],stddev=0.1),name='weights')\n",
    "    bias=tf.Variable(tf.zeros([no_of_class]),dtype=tf.float32,name='bias')\n",
    "    output_logits=tf.add(tf.matmul(hidden_layer1_output,W),bias)\n",
    "\n",
    "with tf.name_scope('loss'):\n",
    "    cross_entropy=tf.nn.softmax_cross_entropy_with_logits(logits=output_logits,labels=Y,name='cross_entropy')\n",
    "    loss = tf.reduce_mean(cross_entropy, name='xentropy_mean')\n",
    "    tf.summary.scalar('loss',loss)\n",
    "    \n",
    "with tf.name_scope('train'):\n",
    "    optimizer=tf.train.AdamOptimizer(0.001)\n",
    "    train_op=optimizer.minimize(loss)\n",
    "    \n",
    "with tf.name_scope('accuracy'):\n",
    "    prediction=tf.equal(tf.argmax(output_logits,1),tf.argmax(Y,1))\n",
    "    accuracy=tf.reduce_mean(tf.cast(prediction,dtype=tf.float32))    \n",
    "    tf.summary.scalar('accuracy',accuracy)\n",
    "merged=tf.summary.merge_all()    "
   ]
  },
  {
   "cell_type": "code",
   "execution_count": null,
   "metadata": {
    "collapsed": true
   },
   "outputs": [],
   "source": []
  },
  {
   "cell_type": "code",
   "execution_count": 5,
   "metadata": {},
   "outputs": [],
   "source": [
    "train_writer=tf.summary.FileWriter('/home/ppatnaik/pradosa/logdir1'+'/train',sess.graph)\n",
    "test_writer=tf.summary.FileWriter('/home/ppatnaik/pradosa/logdir1'+'/test',sess.graph)\n",
    "# tf.global_variables_initializer().run()"
   ]
  },
  {
   "cell_type": "code",
   "execution_count": null,
   "metadata": {},
   "outputs": [],
   "source": []
  },
  {
   "cell_type": "code",
   "execution_count": 7,
   "metadata": {},
   "outputs": [
    {
     "name": "stdout",
     "output_type": "stream",
     "text": [
      "0.308642\n"
     ]
    }
   ],
   "source": [
    "# with tf.Session() as sess:\n",
    "sess.run(tf.global_variables_initializer())\n",
    "c=[]\n",
    "for i in range(h_epochs):\n",
    "    _,cost,m=sess.run([train_op,loss,merged],{X:X_train,Y:Y_train})\n",
    "    train_writer.add_summary(m, i)\n",
    "    c.append(cost)\n",
    "    #         print(cost)\n",
    "print(accuracy.eval(feed_dict={X:X_test,Y:Y_test}))      "
   ]
  },
  {
   "cell_type": "code",
   "execution_count": 25,
   "metadata": {},
   "outputs": [
    {
     "data": {
      "text/plain": [
       "b'\\n\\x10\\n\\tloss/loss\\x15;\\xa3\\xd6B\\n\\x18\\n\\x11accuracy/accuracy\\x15wN\\x1f?'"
      ]
     },
     "execution_count": 25,
     "metadata": {},
     "output_type": "execute_result"
    }
   ],
   "source": [
    "m"
   ]
  },
  {
   "cell_type": "code",
   "execution_count": 8,
   "metadata": {},
   "outputs": [
    {
     "data": {
      "image/png": "[encoded data removed]",
      "text/plain": [
       "<matplotlib.figure.Figure at 0x7fbecc0f6470>"
      ]
     },
     "metadata": {},
     "output_type": "display_data"
    }
   ],
   "source": [
    "import matplotlib.pyplot as plt\n",
    "plt.plot(c)\n",
    "plt.show()"
   ]
  },
  {
   "cell_type": "code",
   "execution_count": 27,
   "metadata": {
    "collapsed": true
   },
   "outputs": [],
   "source": [
    "with tf.Session() as sess:\n",
    "    summary=tf.summary.FileWriter('/home/ppatnaik/pradosa/logdir1')\n",
    "    summary.add_graph(sess.graph)"
   ]
  },
  {
   "cell_type": "code",
   "execution_count": 9,
   "metadata": {},
   "outputs": [
    {
     "data": {
      "text/plain": [
       "[2647.1621,\n",
       " 8388.7139,\n",
       " 5697.4731,\n",
       " 7800.0356,\n",
       " 2326.7993,\n",
       " 3707.3894,\n",
       " 4053.3567,\n",
       " 2920.9688,\n",
       " 3452.2334,\n",
       " 4459.6045,\n",
       " 4241.3804,\n",
       " 3156.939,\n",
       " 3334.6179,\n",
       " 3845.5442,\n",
       " 3544.6184,\n",
       " 2660.7908,\n",
       " 2545.7461,\n",
       " 2857.1201,\n",
       " 2553.4531,\n",
       " 1795.7086,\n",
       " 1432.6445,\n",
       " 1520.6283,\n",
       " 1097.7621,\n",
       " 472.34457,\n",
       " 460.8811,\n",
       " 1227.281,\n",
       " 984.43134,\n",
       " 490.63379,\n",
       " 380.17963,\n",
       " 595.55182,\n",
       " 716.85046,\n",
       " 593.99939,\n",
       " 652.80914,\n",
       " 653.90863,\n",
       " 509.36938,\n",
       " 381.31308,\n",
       " 304.40793,\n",
       " 180.30995,\n",
       " 432.09506,\n",
       " 229.9809,\n",
       " 166.04662,\n",
       " 283.49927,\n",
       " 268.23486,\n",
       " 289.59631,\n",
       " 232.62665,\n",
       " 166.63144,\n",
       " 129.17844,\n",
       " 215.73218,\n",
       " 138.89093,\n",
       " 126.92519,\n",
       " 192.17062,\n",
       " 149.85841,\n",
       " 141.99606,\n",
       " 94.921951,\n",
       " 166.93488,\n",
       " 85.133537,\n",
       " 124.8046,\n",
       " 118.44506,\n",
       " 108.65344,\n",
       " 84.106766,\n",
       " 123.25998,\n",
       " 80.156845,\n",
       " 101.0034,\n",
       " 92.300423,\n",
       " 94.644913,\n",
       " 63.200172,\n",
       " 128.77272,\n",
       " 89.047653,\n",
       " 89.21151,\n",
       " 118.30508,\n",
       " 65.808197,\n",
       " 84.993721,\n",
       " 68.357056,\n",
       " 59.557438,\n",
       " 72.33477,\n",
       " 56.673599,\n",
       " 76.534149,\n",
       " 60.978527,\n",
       " 58.539421,\n",
       " 65.147949,\n",
       " 44.731926,\n",
       " 52.109455,\n",
       " 48.563713,\n",
       " 47.705887,\n",
       " 40.553257,\n",
       " 61.507473,\n",
       " 75.420624,\n",
       " 41.040207,\n",
       " 105.95381,\n",
       " 163.45549,\n",
       " 106.18055,\n",
       " 186.73587,\n",
       " 49.894505,\n",
       " 115.55729,\n",
       " 60.436405,\n",
       " 135.60237,\n",
       " 50.248405,\n",
       " 95.66597,\n",
       " 49.766155,\n",
       " 110.40807]"
      ]
     },
     "execution_count": 9,
     "metadata": {},
     "output_type": "execute_result"
    }
   ],
   "source": [
    "c"
   ]
  },
  {
   "cell_type": "code",
   "execution_count": null,
   "metadata": {
    "collapsed": true
   },
   "outputs": [],
   "source": []
  },
  {
   "cell_type": "code",
   "execution_count": null,
   "metadata": {
    "collapsed": true
   },
   "outputs": [],
   "source": []
  }
 ],
 "metadata": {
  "kernelspec": {
   "display_name": "Python 3",
   "language": "python",
   "name": "python3"
  },
  "language_info": {
   "codemirror_mode": {
    "name": "ipython",
    "version": 3
   },
   "file_extension": ".py",
   "mimetype": "text/x-python",
   "name": "python",
   "nbconvert_exporter": "python",
   "pygments_lexer": "ipython3",
   "version": "3.6.1"
  }
 },
 "nbformat": 4,
 "nbformat_minor": 2
}
